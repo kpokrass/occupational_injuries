{
 "cells": [
  {
   "cell_type": "markdown",
   "metadata": {},
   "source": [
    "# Classifing Injury Code based on Occupational Injury Report\n",
    "\n",
    "Every day, work-related injury records are generated. In order to alleviate the human effort expended with coding such records, the Centers for Disease Control and Prevention (CDC) National Institute for Occupational Safety and Health (NIOSH), in close partnership with the Laboratory for Innovation Science at Harvard (LISH), is interested in improving their NLP/ML model to automatically read injury records and classify them according to the Occupational Injury and Illness Classification System (OIICS).\n",
    "\n",
    "https://www.topcoder.com/challenges/30103825\n",
    "\n",
    "OIICS Coding Scheme Definitions: https://wwwn.cdc.gov/wisards/oiics/\n",
    "\n",
    "## Load the Data\n",
    "\n",
    "The input training file is a cvs file (with a header) with 4 columns (`text`, `sex`, `age`, and `event`) and 153956 observations.\n",
    "\n",
    "1. `text`; This column describes the raw injury description text data.\n",
    "\n",
    "2. `sex`; This is a categorical variable, describing the sex of the related person.\n",
    "\n",
    "3. `age`; This is a positive integer variable, describing the age of the related person.\n",
    "\n",
    "4. `event`; This is the target variable, specifying the OIICS label to be classified. There are 48 unique labels in total."
   ]
  },
  {
   "cell_type": "code",
   "execution_count": 1,
   "metadata": {},
   "outputs": [],
   "source": [
    "import pandas as pd\n",
    "import numpy as np\n",
    "import matplotlib.pyplot as plt\n",
    "import seaborn as sns\n",
    "%matplotlib inline"
   ]
  },
  {
   "cell_type": "code",
   "execution_count": 2,
   "metadata": {},
   "outputs": [],
   "source": [
    "# Load data\n",
    "data = pd.read_csv('train.csv')"
   ]
  },
  {
   "cell_type": "code",
   "execution_count": 3,
   "metadata": {},
   "outputs": [
    {
     "data": {
      "text/html": [
       "<div>\n",
       "<style scoped>\n",
       "    .dataframe tbody tr th:only-of-type {\n",
       "        vertical-align: middle;\n",
       "    }\n",
       "\n",
       "    .dataframe tbody tr th {\n",
       "        vertical-align: top;\n",
       "    }\n",
       "\n",
       "    .dataframe thead th {\n",
       "        text-align: right;\n",
       "    }\n",
       "</style>\n",
       "<table border=\"1\" class=\"dataframe\">\n",
       "  <thead>\n",
       "    <tr style=\"text-align: right;\">\n",
       "      <th></th>\n",
       "      <th>text</th>\n",
       "      <th>sex</th>\n",
       "      <th>age</th>\n",
       "      <th>event</th>\n",
       "    </tr>\n",
       "  </thead>\n",
       "  <tbody>\n",
       "    <tr>\n",
       "      <th>0</th>\n",
       "      <td>57YOM WITH CONTUSION TO FACE AFTER STRIKING IT...</td>\n",
       "      <td>1</td>\n",
       "      <td>57</td>\n",
       "      <td>62</td>\n",
       "    </tr>\n",
       "    <tr>\n",
       "      <th>1</th>\n",
       "      <td>A 45YOM FELL ON ARM WHILE WORKING HAD SLIPPED ...</td>\n",
       "      <td>1</td>\n",
       "      <td>45</td>\n",
       "      <td>42</td>\n",
       "    </tr>\n",
       "    <tr>\n",
       "      <th>2</th>\n",
       "      <td>58YOM WITH CERVICAL STRAIN  BACK PAIN S P REST...</td>\n",
       "      <td>1</td>\n",
       "      <td>58</td>\n",
       "      <td>26</td>\n",
       "    </tr>\n",
       "    <tr>\n",
       "      <th>3</th>\n",
       "      <td>33 YOM LAC TO HAND FROM A RAZOR KNIFE</td>\n",
       "      <td>1</td>\n",
       "      <td>33</td>\n",
       "      <td>60</td>\n",
       "    </tr>\n",
       "    <tr>\n",
       "      <th>4</th>\n",
       "      <td>53YOM AT WORK IN A WAREHOUSE DOING UNSPECIFIED...</td>\n",
       "      <td>1</td>\n",
       "      <td>53</td>\n",
       "      <td>71</td>\n",
       "    </tr>\n",
       "  </tbody>\n",
       "</table>\n",
       "</div>"
      ],
      "text/plain": [
       "                                                text  sex  age  event\n",
       "0  57YOM WITH CONTUSION TO FACE AFTER STRIKING IT...    1   57     62\n",
       "1  A 45YOM FELL ON ARM WHILE WORKING HAD SLIPPED ...    1   45     42\n",
       "2  58YOM WITH CERVICAL STRAIN  BACK PAIN S P REST...    1   58     26\n",
       "3              33 YOM LAC TO HAND FROM A RAZOR KNIFE    1   33     60\n",
       "4  53YOM AT WORK IN A WAREHOUSE DOING UNSPECIFIED...    1   53     71"
      ]
     },
     "execution_count": 3,
     "metadata": {},
     "output_type": "execute_result"
    }
   ],
   "source": [
    "# Examine head of df\n",
    "\n",
    "data.head()"
   ]
  },
  {
   "cell_type": "code",
   "execution_count": 4,
   "metadata": {},
   "outputs": [
    {
     "name": "stdout",
     "output_type": "stream",
     "text": [
      "<class 'pandas.core.frame.DataFrame'>\n",
      "RangeIndex: 153956 entries, 0 to 153955\n",
      "Data columns (total 4 columns):\n",
      "text     153956 non-null object\n",
      "sex      153956 non-null int64\n",
      "age      153956 non-null int64\n",
      "event    153956 non-null int64\n",
      "dtypes: int64(3), object(1)\n",
      "memory usage: 4.7+ MB\n"
     ]
    }
   ],
   "source": [
    "# Examine df info\n",
    "\n",
    "data.info()"
   ]
  },
  {
   "cell_type": "code",
   "execution_count": 5,
   "metadata": {},
   "outputs": [
    {
     "data": {
      "text/html": [
       "<div>\n",
       "<style scoped>\n",
       "    .dataframe tbody tr th:only-of-type {\n",
       "        vertical-align: middle;\n",
       "    }\n",
       "\n",
       "    .dataframe tbody tr th {\n",
       "        vertical-align: top;\n",
       "    }\n",
       "\n",
       "    .dataframe thead th {\n",
       "        text-align: right;\n",
       "    }\n",
       "</style>\n",
       "<table border=\"1\" class=\"dataframe\">\n",
       "  <thead>\n",
       "    <tr style=\"text-align: right;\">\n",
       "      <th></th>\n",
       "      <th>sex</th>\n",
       "      <th>age</th>\n",
       "      <th>event</th>\n",
       "    </tr>\n",
       "  </thead>\n",
       "  <tbody>\n",
       "    <tr>\n",
       "      <th>count</th>\n",
       "      <td>153956.000000</td>\n",
       "      <td>153956.00000</td>\n",
       "      <td>153956.000000</td>\n",
       "    </tr>\n",
       "    <tr>\n",
       "      <th>mean</th>\n",
       "      <td>1.354361</td>\n",
       "      <td>38.28868</td>\n",
       "      <td>54.850808</td>\n",
       "    </tr>\n",
       "    <tr>\n",
       "      <th>std</th>\n",
       "      <td>0.478321</td>\n",
       "      <td>13.26070</td>\n",
       "      <td>18.526890</td>\n",
       "    </tr>\n",
       "    <tr>\n",
       "      <th>min</th>\n",
       "      <td>1.000000</td>\n",
       "      <td>0.00000</td>\n",
       "      <td>10.000000</td>\n",
       "    </tr>\n",
       "    <tr>\n",
       "      <th>25%</th>\n",
       "      <td>1.000000</td>\n",
       "      <td>27.00000</td>\n",
       "      <td>43.000000</td>\n",
       "    </tr>\n",
       "    <tr>\n",
       "      <th>50%</th>\n",
       "      <td>1.000000</td>\n",
       "      <td>37.00000</td>\n",
       "      <td>62.000000</td>\n",
       "    </tr>\n",
       "    <tr>\n",
       "      <th>75%</th>\n",
       "      <td>2.000000</td>\n",
       "      <td>48.00000</td>\n",
       "      <td>70.000000</td>\n",
       "    </tr>\n",
       "    <tr>\n",
       "      <th>max</th>\n",
       "      <td>2.000000</td>\n",
       "      <td>96.00000</td>\n",
       "      <td>99.000000</td>\n",
       "    </tr>\n",
       "  </tbody>\n",
       "</table>\n",
       "</div>"
      ],
      "text/plain": [
       "                 sex           age          event\n",
       "count  153956.000000  153956.00000  153956.000000\n",
       "mean        1.354361      38.28868      54.850808\n",
       "std         0.478321      13.26070      18.526890\n",
       "min         1.000000       0.00000      10.000000\n",
       "25%         1.000000      27.00000      43.000000\n",
       "50%         1.000000      37.00000      62.000000\n",
       "75%         2.000000      48.00000      70.000000\n",
       "max         2.000000      96.00000      99.000000"
      ]
     },
     "execution_count": 5,
     "metadata": {},
     "output_type": "execute_result"
    }
   ],
   "source": [
    "# Look at numerical data\n",
    "\n",
    "data.describe()"
   ]
  },
  {
   "cell_type": "markdown",
   "metadata": {},
   "source": [
    "While there do not appear to be any null values, there are min values in the `age` column equal to 0. These are most likely placeholder values for unknown data and will need to be evaluated further. If the age of the injured person can not be determined from the `text`, these values will be imputed with the median value of the `age` column, 37 years old."
   ]
  },
  {
   "cell_type": "code",
   "execution_count": 8,
   "metadata": {},
   "outputs": [
    {
     "data": {
      "text/html": [
       "<div>\n",
       "<style scoped>\n",
       "    .dataframe tbody tr th:only-of-type {\n",
       "        vertical-align: middle;\n",
       "    }\n",
       "\n",
       "    .dataframe tbody tr th {\n",
       "        vertical-align: top;\n",
       "    }\n",
       "\n",
       "    .dataframe thead th {\n",
       "        text-align: right;\n",
       "    }\n",
       "</style>\n",
       "<table border=\"1\" class=\"dataframe\">\n",
       "  <thead>\n",
       "    <tr style=\"text-align: right;\">\n",
       "      <th></th>\n",
       "      <th>text</th>\n",
       "      <th>sex</th>\n",
       "      <th>age</th>\n",
       "      <th>event</th>\n",
       "    </tr>\n",
       "  </thead>\n",
       "  <tbody>\n",
       "    <tr>\n",
       "      <th>7323</th>\n",
       "      <td>UNK AGE FEMALE ACCIDENTALLY CUT SELF W DIRTY S...</td>\n",
       "      <td>2</td>\n",
       "      <td>0</td>\n",
       "      <td>55</td>\n",
       "    </tr>\n",
       "    <tr>\n",
       "      <th>17671</th>\n",
       "      <td>UNK AGE MALE IS A PARKING ATTENDANT AT WORK AN...</td>\n",
       "      <td>1</td>\n",
       "      <td>0</td>\n",
       "      <td>73</td>\n",
       "    </tr>\n",
       "    <tr>\n",
       "      <th>24760</th>\n",
       "      <td>UNK AGE MALE C O DOING HEAVY LIFTING AT WORK A...</td>\n",
       "      <td>1</td>\n",
       "      <td>0</td>\n",
       "      <td>71</td>\n",
       "    </tr>\n",
       "    <tr>\n",
       "      <th>26503</th>\n",
       "      <td>UNKNOWN AGE MALE WITH EXPOSURE TO CARBON DIOXI...</td>\n",
       "      <td>1</td>\n",
       "      <td>0</td>\n",
       "      <td>55</td>\n",
       "    </tr>\n",
       "    <tr>\n",
       "      <th>34429</th>\n",
       "      <td>UNID D MALE WAS THE DRIVER OF A TRACTOR TRAILE...</td>\n",
       "      <td>1</td>\n",
       "      <td>0</td>\n",
       "      <td>26</td>\n",
       "    </tr>\n",
       "    <tr>\n",
       "      <th>34890</th>\n",
       "      <td>UNID D MALE WAS COOKING  A RETAURANT WHEN PRES...</td>\n",
       "      <td>1</td>\n",
       "      <td>0</td>\n",
       "      <td>32</td>\n",
       "    </tr>\n",
       "    <tr>\n",
       "      <th>41930</th>\n",
       "      <td>UNKNOWN AGE MALE WITH EXPOSURE TO CARBON DIOXI...</td>\n",
       "      <td>1</td>\n",
       "      <td>0</td>\n",
       "      <td>55</td>\n",
       "    </tr>\n",
       "    <tr>\n",
       "      <th>44621</th>\n",
       "      <td>UNK AGE MALE SUSTAINED AN ELECTRICAL SHOCK AND...</td>\n",
       "      <td>1</td>\n",
       "      <td>0</td>\n",
       "      <td>43</td>\n",
       "    </tr>\n",
       "    <tr>\n",
       "      <th>45835</th>\n",
       "      <td>UKN YOM WITH MULTIPLE TRAUMATIC INJURIES AFTER...</td>\n",
       "      <td>1</td>\n",
       "      <td>0</td>\n",
       "      <td>65</td>\n",
       "    </tr>\n",
       "    <tr>\n",
       "      <th>58278</th>\n",
       "      <td>UNKNOWN AGE MALE WITH EXPOSURE TO CARBON DIOXI...</td>\n",
       "      <td>1</td>\n",
       "      <td>0</td>\n",
       "      <td>55</td>\n",
       "    </tr>\n",
       "    <tr>\n",
       "      <th>59399</th>\n",
       "      <td>UNKNOWN AGED MALE WITH EXPOSURE TO CARBON DIOX...</td>\n",
       "      <td>1</td>\n",
       "      <td>0</td>\n",
       "      <td>55</td>\n",
       "    </tr>\n",
       "    <tr>\n",
       "      <th>63984</th>\n",
       "      <td>UNK AGE FEMALE WAS BIT IN THE FACE BY A PIT BU...</td>\n",
       "      <td>2</td>\n",
       "      <td>0</td>\n",
       "      <td>13</td>\n",
       "    </tr>\n",
       "    <tr>\n",
       "      <th>65202</th>\n",
       "      <td>UNK AGE FEMALE WORKS AS A PERSONAL TRAINER AND...</td>\n",
       "      <td>2</td>\n",
       "      <td>0</td>\n",
       "      <td>70</td>\n",
       "    </tr>\n",
       "    <tr>\n",
       "      <th>71367</th>\n",
       "      <td>UNK AGE MALE WAS STABBED TWICE IN THE CHEST DU...</td>\n",
       "      <td>1</td>\n",
       "      <td>0</td>\n",
       "      <td>11</td>\n",
       "    </tr>\n",
       "    <tr>\n",
       "      <th>75223</th>\n",
       "      <td>UNKNOWN AGE MALE WITH EXPOSURE TO CARBON DIOXI...</td>\n",
       "      <td>1</td>\n",
       "      <td>0</td>\n",
       "      <td>55</td>\n",
       "    </tr>\n",
       "    <tr>\n",
       "      <th>79188</th>\n",
       "      <td>UNKNOWN AGED MALE EXPOSED TO CARBON DIOXIDE DX...</td>\n",
       "      <td>1</td>\n",
       "      <td>0</td>\n",
       "      <td>55</td>\n",
       "    </tr>\n",
       "    <tr>\n",
       "      <th>86442</th>\n",
       "      <td>UNKOWN AGED MALE EXPOSED TO CARBON DIOXIDE DX ...</td>\n",
       "      <td>1</td>\n",
       "      <td>0</td>\n",
       "      <td>55</td>\n",
       "    </tr>\n",
       "    <tr>\n",
       "      <th>92287</th>\n",
       "      <td>UNKNOWN AGED MALE EXPOSED TO CARBON DIOXIDE DX...</td>\n",
       "      <td>1</td>\n",
       "      <td>0</td>\n",
       "      <td>55</td>\n",
       "    </tr>\n",
       "    <tr>\n",
       "      <th>120916</th>\n",
       "      <td>UNK AGE MALE CRUSHED BETWEEN EXCAVATOR AND A S...</td>\n",
       "      <td>1</td>\n",
       "      <td>0</td>\n",
       "      <td>64</td>\n",
       "    </tr>\n",
       "    <tr>\n",
       "      <th>121035</th>\n",
       "      <td>UNK AGE FEMALE HIT HEAD ON CABINET WHILE IN TH...</td>\n",
       "      <td>2</td>\n",
       "      <td>0</td>\n",
       "      <td>63</td>\n",
       "    </tr>\n",
       "    <tr>\n",
       "      <th>133289</th>\n",
       "      <td>A 13YOF SUSTAINED NEEDLESTICK WHILE OPENING UP...</td>\n",
       "      <td>2</td>\n",
       "      <td>0</td>\n",
       "      <td>61</td>\n",
       "    </tr>\n",
       "    <tr>\n",
       "      <th>134103</th>\n",
       "      <td>UNKNOWN AGE FEMALE WITH EXPOSURE TO CARBON DIO...</td>\n",
       "      <td>2</td>\n",
       "      <td>0</td>\n",
       "      <td>55</td>\n",
       "    </tr>\n",
       "    <tr>\n",
       "      <th>140233</th>\n",
       "      <td>UNKNOWN AGE MALE WITH EXPOSURE TO CARBON DIOXI...</td>\n",
       "      <td>1</td>\n",
       "      <td>0</td>\n",
       "      <td>55</td>\n",
       "    </tr>\n",
       "    <tr>\n",
       "      <th>147998</th>\n",
       "      <td>UNK AGE M WITH INTRACEREBRAL HEMORRHAGE RIB  H...</td>\n",
       "      <td>1</td>\n",
       "      <td>0</td>\n",
       "      <td>43</td>\n",
       "    </tr>\n",
       "    <tr>\n",
       "      <th>153761</th>\n",
       "      <td>UNKNOWN AGE MALE EXPOSED TO CARBON DIOXIDE DX ...</td>\n",
       "      <td>1</td>\n",
       "      <td>0</td>\n",
       "      <td>55</td>\n",
       "    </tr>\n",
       "  </tbody>\n",
       "</table>\n",
       "</div>"
      ],
      "text/plain": [
       "                                                     text  sex  age  event\n",
       "7323    UNK AGE FEMALE ACCIDENTALLY CUT SELF W DIRTY S...    2    0     55\n",
       "17671   UNK AGE MALE IS A PARKING ATTENDANT AT WORK AN...    1    0     73\n",
       "24760   UNK AGE MALE C O DOING HEAVY LIFTING AT WORK A...    1    0     71\n",
       "26503   UNKNOWN AGE MALE WITH EXPOSURE TO CARBON DIOXI...    1    0     55\n",
       "34429   UNID D MALE WAS THE DRIVER OF A TRACTOR TRAILE...    1    0     26\n",
       "34890   UNID D MALE WAS COOKING  A RETAURANT WHEN PRES...    1    0     32\n",
       "41930   UNKNOWN AGE MALE WITH EXPOSURE TO CARBON DIOXI...    1    0     55\n",
       "44621   UNK AGE MALE SUSTAINED AN ELECTRICAL SHOCK AND...    1    0     43\n",
       "45835   UKN YOM WITH MULTIPLE TRAUMATIC INJURIES AFTER...    1    0     65\n",
       "58278   UNKNOWN AGE MALE WITH EXPOSURE TO CARBON DIOXI...    1    0     55\n",
       "59399   UNKNOWN AGED MALE WITH EXPOSURE TO CARBON DIOX...    1    0     55\n",
       "63984   UNK AGE FEMALE WAS BIT IN THE FACE BY A PIT BU...    2    0     13\n",
       "65202   UNK AGE FEMALE WORKS AS A PERSONAL TRAINER AND...    2    0     70\n",
       "71367   UNK AGE MALE WAS STABBED TWICE IN THE CHEST DU...    1    0     11\n",
       "75223   UNKNOWN AGE MALE WITH EXPOSURE TO CARBON DIOXI...    1    0     55\n",
       "79188   UNKNOWN AGED MALE EXPOSED TO CARBON DIOXIDE DX...    1    0     55\n",
       "86442   UNKOWN AGED MALE EXPOSED TO CARBON DIOXIDE DX ...    1    0     55\n",
       "92287   UNKNOWN AGED MALE EXPOSED TO CARBON DIOXIDE DX...    1    0     55\n",
       "120916  UNK AGE MALE CRUSHED BETWEEN EXCAVATOR AND A S...    1    0     64\n",
       "121035  UNK AGE FEMALE HIT HEAD ON CABINET WHILE IN TH...    2    0     63\n",
       "133289  A 13YOF SUSTAINED NEEDLESTICK WHILE OPENING UP...    2    0     61\n",
       "134103  UNKNOWN AGE FEMALE WITH EXPOSURE TO CARBON DIO...    2    0     55\n",
       "140233  UNKNOWN AGE MALE WITH EXPOSURE TO CARBON DIOXI...    1    0     55\n",
       "147998  UNK AGE M WITH INTRACEREBRAL HEMORRHAGE RIB  H...    1    0     43\n",
       "153761  UNKNOWN AGE MALE EXPOSED TO CARBON DIOXIDE DX ...    1    0     55"
      ]
     },
     "execution_count": 8,
     "metadata": {},
     "output_type": "execute_result"
    }
   ],
   "source": [
    "# Analyze placeholder values for age\n",
    "\n",
    "zero_age = data.loc[data.age == 0]\n",
    "zero_age"
   ]
  },
  {
   "cell_type": "markdown",
   "metadata": {},
   "source": [
    "Only instance 133289 has the age of the injured person in the text of the report. Thus, it will be set to 13 and the rest of the observations will be set to equal the median value for the `age` column, 37 years old."
   ]
  },
  {
   "cell_type": "code",
   "execution_count": 9,
   "metadata": {},
   "outputs": [
    {
     "data": {
      "text/plain": [
       "text     A 13YOF SUSTAINED NEEDLESTICK WHILE OPENING UP...\n",
       "sex                                                      2\n",
       "age                                                     13\n",
       "event                                                   61\n",
       "Name: 133289, dtype: object"
      ]
     },
     "execution_count": 9,
     "metadata": {},
     "output_type": "execute_result"
    }
   ],
   "source": [
    "# Correct age value for instance 133289\n",
    "\n",
    "data.loc[133289, 'age'] = 13\n",
    "\n",
    "# Check\n",
    "\n",
    "data.iloc[133289]"
   ]
  },
  {
   "cell_type": "code",
   "execution_count": 10,
   "metadata": {},
   "outputs": [
    {
     "data": {
      "text/html": [
       "<div>\n",
       "<style scoped>\n",
       "    .dataframe tbody tr th:only-of-type {\n",
       "        vertical-align: middle;\n",
       "    }\n",
       "\n",
       "    .dataframe tbody tr th {\n",
       "        vertical-align: top;\n",
       "    }\n",
       "\n",
       "    .dataframe thead th {\n",
       "        text-align: right;\n",
       "    }\n",
       "</style>\n",
       "<table border=\"1\" class=\"dataframe\">\n",
       "  <thead>\n",
       "    <tr style=\"text-align: right;\">\n",
       "      <th></th>\n",
       "      <th>sex</th>\n",
       "      <th>age</th>\n",
       "      <th>event</th>\n",
       "    </tr>\n",
       "  </thead>\n",
       "  <tbody>\n",
       "    <tr>\n",
       "      <th>count</th>\n",
       "      <td>153956.000000</td>\n",
       "      <td>153956.000000</td>\n",
       "      <td>153956.000000</td>\n",
       "    </tr>\n",
       "    <tr>\n",
       "      <th>mean</th>\n",
       "      <td>1.354361</td>\n",
       "      <td>38.294532</td>\n",
       "      <td>54.850808</td>\n",
       "    </tr>\n",
       "    <tr>\n",
       "      <th>std</th>\n",
       "      <td>0.478321</td>\n",
       "      <td>13.251886</td>\n",
       "      <td>18.526890</td>\n",
       "    </tr>\n",
       "    <tr>\n",
       "      <th>min</th>\n",
       "      <td>1.000000</td>\n",
       "      <td>5.000000</td>\n",
       "      <td>10.000000</td>\n",
       "    </tr>\n",
       "    <tr>\n",
       "      <th>25%</th>\n",
       "      <td>1.000000</td>\n",
       "      <td>27.000000</td>\n",
       "      <td>43.000000</td>\n",
       "    </tr>\n",
       "    <tr>\n",
       "      <th>50%</th>\n",
       "      <td>1.000000</td>\n",
       "      <td>37.000000</td>\n",
       "      <td>62.000000</td>\n",
       "    </tr>\n",
       "    <tr>\n",
       "      <th>75%</th>\n",
       "      <td>2.000000</td>\n",
       "      <td>48.000000</td>\n",
       "      <td>70.000000</td>\n",
       "    </tr>\n",
       "    <tr>\n",
       "      <th>max</th>\n",
       "      <td>2.000000</td>\n",
       "      <td>96.000000</td>\n",
       "      <td>99.000000</td>\n",
       "    </tr>\n",
       "  </tbody>\n",
       "</table>\n",
       "</div>"
      ],
      "text/plain": [
       "                 sex            age          event\n",
       "count  153956.000000  153956.000000  153956.000000\n",
       "mean        1.354361      38.294532      54.850808\n",
       "std         0.478321      13.251886      18.526890\n",
       "min         1.000000       5.000000      10.000000\n",
       "25%         1.000000      27.000000      43.000000\n",
       "50%         1.000000      37.000000      62.000000\n",
       "75%         2.000000      48.000000      70.000000\n",
       "max         2.000000      96.000000      99.000000"
      ]
     },
     "execution_count": 10,
     "metadata": {},
     "output_type": "execute_result"
    }
   ],
   "source": [
    "# Impute the median age for the 0 values in the age column\n",
    "\n",
    "data.age.replace(0, np.median(data.age), inplace=True)\n",
    "\n",
    "# Check\n",
    "\n",
    "data.describe()"
   ]
  },
  {
   "cell_type": "markdown",
   "metadata": {},
   "source": [
    "This data comes from the CDC and is assumed to be represent injuries from people employed in the US. However, the minimum age in the dataset is less than the legal age of employment (14 years old) set by the US Department of Labor. Let's select a few observations to investigate further if these observations represent injured child laborers or if they are just children injured on work sites."
   ]
  },
  {
   "cell_type": "code",
   "execution_count": 25,
   "metadata": {},
   "outputs": [
    {
     "name": "stdout",
     "output_type": "stream",
     "text": [
      "(94, 4)\n",
      "13 YOM RIDING A TRACTOR JUMPED OFF HURT LEG DX LOWER LEG FRACTURE\n",
      "\n",
      "\n",
      "11 YOF MIXING LIVESTOCK FEED IN CONCRETE MIXER FINGERS CAUGHT BRIEFLY IN MIXER  DX  CONTUSION OF FINGER W O DAMAGE TO NAIL\n",
      "\n",
      "\n",
      "A 13YOF SUSTAINED NEEDLESTICK WHILE OPENING UP CAPPED INSULIN PEN PUNCT TO FINGER\n",
      "\n",
      "\n",
      "R WRST SPR 13YOWM DELIVERING NEWSPAPERS ON BIKE WAS HIT BY CAR THAT CA ME FROM STOP HIT PT S BACK TIRE PT FELL TO R SIDE NO LOC OR HELMET WORN\n",
      "\n",
      "\n",
      "13 YOF A VOLUNTEER AT HORSEBACK RIDING CAMP WHEN A HORSE STEPPED ONHER FOOT DX CONTUSION FOOT\n",
      "\n",
      "\n",
      "6YOM CONT SPRAINED RT FOOT SLIPPED IN FRONT OF MOTHER S CA WHILE DELIV ERING NEWS PAPERS RT FOOT WAS RAN OVER WITH TIRE\n",
      "\n",
      "\n",
      "13 YOF WAS AT POLICE ACADEMY PRACTICING DRILL PUSHING MATTRESS OVER A FENCE  IT FELL BACK ON HER HEAD NECK  HEAD PAIN  DX NECK STRAIN\n",
      "\n",
      "\n",
      "8 YOM DX EYE ITCHING AND SWELLING  DUE TO SOMETHING FELL IN EYE AT  WORK\n",
      "\n",
      "\n",
      "11YOM IN HAY BARN IN LOFT FELL AND HIT HIS HEAD ON CONCRETE FLOOR DX CONCUSSION\n",
      "\n",
      "\n",
      "13YOM WITH LEFT SHOULDER PAIN THAT WORSENED AFTER HE LIFTED A DESK AT WORK HE HAD A BASKETBALL GAME 1 DAY AGO SHOULDER PAIN\n",
      "\n",
      "\n"
     ]
    }
   ],
   "source": [
    "kids = data.loc[data.age < 14]\n",
    "print(kids.shape)\n",
    "sample = kids.sample(n=10)\n",
    "sample.reset_index(inplace=True)\n",
    "\n",
    "for i in range(0,len(sample)):\n",
    "    print(sample.iloc[i].text)\n",
    "    print('\\n')"
   ]
  },
  {
   "cell_type": "markdown",
   "metadata": {},
   "source": [
    "Hmm...okay they seem like actual work-related injuries...\n",
    "\n",
    "## Exploratory Data Analysis"
   ]
  },
  {
   "cell_type": "code",
   "execution_count": 27,
   "metadata": {},
   "outputs": [
    {
     "data": {
      "image/png": "[encoded data removed]",
      "text/plain": [
       "<Figure size 432x288 with 1 Axes>"
      ]
     },
     "metadata": {
      "needs_background": "light"
     },
     "output_type": "display_data"
    }
   ],
   "source": [
    "sns.distplot(data.age)\n",
    "plt.show()"
   ]
  },
  {
   "cell_type": "code",
   "execution_count": 37,
   "metadata": {},
   "outputs": [
    {
     "data": {
      "image/png": "[encoded data removed]",
      "text/plain": [
       "<Figure size 1008x504 with 1 Axes>"
      ]
     },
     "metadata": {
      "needs_background": "light"
     },
     "output_type": "display_data"
    }
   ],
   "source": [
    "fig = plt.figure(figsize=(14,7))\n",
    "sns.countplot(data.event, order=data.event.value_counts().index)\n",
    "plt.show()"
   ]
  },
  {
   "cell_type": "code",
   "execution_count": 50,
   "metadata": {},
   "outputs": [
    {
     "data": {
      "text/html": [
       "<div>\n",
       "<style scoped>\n",
       "    .dataframe tbody tr th:only-of-type {\n",
       "        vertical-align: middle;\n",
       "    }\n",
       "\n",
       "    .dataframe tbody tr th {\n",
       "        vertical-align: top;\n",
       "    }\n",
       "\n",
       "    .dataframe thead th {\n",
       "        text-align: right;\n",
       "    }\n",
       "</style>\n",
       "<table border=\"1\" class=\"dataframe\">\n",
       "  <thead>\n",
       "    <tr style=\"text-align: right;\">\n",
       "      <th></th>\n",
       "      <th>text</th>\n",
       "      <th>sex</th>\n",
       "      <th>age</th>\n",
       "      <th>event</th>\n",
       "      <th>event_group</th>\n",
       "    </tr>\n",
       "  </thead>\n",
       "  <tbody>\n",
       "    <tr>\n",
       "      <th>0</th>\n",
       "      <td>57YOM WITH CONTUSION TO FACE AFTER STRIKING IT...</td>\n",
       "      <td>1</td>\n",
       "      <td>57</td>\n",
       "      <td>62</td>\n",
       "      <td>Contact with objects and equipment</td>\n",
       "    </tr>\n",
       "    <tr>\n",
       "      <th>1</th>\n",
       "      <td>A 45YOM FELL ON ARM WHILE WORKING HAD SLIPPED ...</td>\n",
       "      <td>1</td>\n",
       "      <td>45</td>\n",
       "      <td>42</td>\n",
       "      <td>Falls, Slips, Trips</td>\n",
       "    </tr>\n",
       "    <tr>\n",
       "      <th>2</th>\n",
       "      <td>58YOM WITH CERVICAL STRAIN  BACK PAIN S P REST...</td>\n",
       "      <td>1</td>\n",
       "      <td>58</td>\n",
       "      <td>26</td>\n",
       "      <td>Transportation incidents</td>\n",
       "    </tr>\n",
       "    <tr>\n",
       "      <th>3</th>\n",
       "      <td>33 YOM LAC TO HAND FROM A RAZOR KNIFE</td>\n",
       "      <td>1</td>\n",
       "      <td>33</td>\n",
       "      <td>60</td>\n",
       "      <td>Contact with objects and equipment</td>\n",
       "    </tr>\n",
       "    <tr>\n",
       "      <th>4</th>\n",
       "      <td>53YOM AT WORK IN A WAREHOUSE DOING UNSPECIFIED...</td>\n",
       "      <td>1</td>\n",
       "      <td>53</td>\n",
       "      <td>71</td>\n",
       "      <td>Overexertion and Bodily Reaction</td>\n",
       "    </tr>\n",
       "  </tbody>\n",
       "</table>\n",
       "</div>"
      ],
      "text/plain": [
       "                                                text  sex  age  event  \\\n",
       "0  57YOM WITH CONTUSION TO FACE AFTER STRIKING IT...    1   57     62   \n",
       "1  A 45YOM FELL ON ARM WHILE WORKING HAD SLIPPED ...    1   45     42   \n",
       "2  58YOM WITH CERVICAL STRAIN  BACK PAIN S P REST...    1   58     26   \n",
       "3              33 YOM LAC TO HAND FROM A RAZOR KNIFE    1   33     60   \n",
       "4  53YOM AT WORK IN A WAREHOUSE DOING UNSPECIFIED...    1   53     71   \n",
       "\n",
       "                          event_group  \n",
       "0  Contact with objects and equipment  \n",
       "1                 Falls, Slips, Trips  \n",
       "2            Transportation incidents  \n",
       "3  Contact with objects and equipment  \n",
       "4    Overexertion and Bodily Reaction  "
      ]
     },
     "execution_count": 50,
     "metadata": {},
     "output_type": "execute_result"
    }
   ],
   "source": [
    "data['event_group'] = [0] * len(data)\n",
    "\n",
    "data.loc[(data.event<20), 'event_group'] = 'Violence by person or animal'\n",
    "data.loc[(data.event>=20) & (data.event<30), 'event_group'] = 'Transportation incidents'\n",
    "data.loc[(data.event>=30) & (data.event<40), 'event_group'] = 'Fires and Explosions'\n",
    "data.loc[(data.event>=40) & (data.event<50), 'event_group'] = 'Falls, Slips, Trips'\n",
    "data.loc[(data.event>=50) & (data.event<60), 'event_group'] = 'Exposure to harmful substances or environments'\n",
    "data.loc[(data.event>=60) & (data.event<70), 'event_group'] = 'Contact with objects and equipment'\n",
    "data.loc[(data.event>=70) & (data.event<80), 'event_group'] = 'Overexertion and Bodily Reaction'\n",
    "data.loc[(data.event>=99), 'event_group'] = 'Unclassifiable'\n",
    "\n",
    "data.head()\n"
   ]
  },
  {
   "cell_type": "code",
   "execution_count": 75,
   "metadata": {},
   "outputs": [
    {
     "data": {
      "image/png": "[encoded data removed]",
      "text/plain": [
       "<Figure size 720x720 with 1 Axes>"
      ]
     },
     "metadata": {
      "needs_background": "light"
     },
     "output_type": "display_data"
    }
   ],
   "source": [
    "fig = plt.figure(figsize=(10,10))\n",
    "sns.countplot(y='event_group',\n",
    "              data=data,\n",
    "              #orient=\"h\",\n",
    "              order=data.event_group.value_counts().index, \n",
    "              color='crimson')\n",
    "\n",
    "plt.show()"
   ]
  },
  {
   "cell_type": "code",
   "execution_count": 76,
   "metadata": {},
   "outputs": [],
   "source": [
    "import spacy\n",
    "\n",
    "nlp = spacy.load(\"en_core_web_md\")"
   ]
  },
  {
   "cell_type": "code",
   "execution_count": 77,
   "metadata": {},
   "outputs": [],
   "source": [
    "import re"
   ]
  },
  {
   "cell_type": "code",
   "execution_count": 198,
   "metadata": {},
   "outputs": [],
   "source": [
    "def get_body_part(txt):\n",
    "    pattern_head = \"(HEAD|NECK|FACE|EYE|NOSE|MOUTH|TEETH|TOOTH|TONGUE|LIP|CHIN|SKULL|EAR|CHEEK)\"\n",
    "#     p_head = re.compile(pattern_head)\n",
    "#     result_head = p_head.findall(txt)\n",
    "    \n",
    "    pattern_arm = \"(HAND|FINGER|THUMB|WRIST|ARM|SHOULDER|ELBOW|BICEP|TRICEP|FOREARM)\"\n",
    "#     p_arm = re.compile(pattern_arm)\n",
    "#     result_arm = p_arm.findall(txt)\n",
    "    \n",
    "    pattern_trunk = \"(CHEST|BACK|RIB|STOMACH|STERNUM|COLLAR|CLAVICAL|ORGAN|KIDNEY|LIVER|HEART|LUNG|INTESTINE|SPINE)\"\n",
    "#     p_trunk = re.compile(pattern_trunk)\n",
    "#     result_trunk = p_trunk.findall(txt)\n",
    "    \n",
    "    pattern_leg = \"(FOOT|FEET|TOE|ANKLE|HEEL|SHIN|KNEE|LEG|THIGH|CALF|CALVES|HIP|BUTTOCK|GLUTE|BUTT|COCCYX|PELVIS|GENITALS|HAMSTRING|QUAD)\"\n",
    "#     p_leg = re.compile(pattern_leg)\n",
    "#     result_leg = p_leg.findall(txt)\n",
    "    \n",
    "    pattern_list = [(pattern_head, 'head/neck'), \n",
    "                    (pattern_arm, 'arms'),\n",
    "                    (pattern_trunk, 'trunk'),\n",
    "                    (pattern_leg, 'legs')]\n",
    "    \n",
    "    result_list = []\n",
    "    \n",
    "    \n",
    "    for i in range(0, len(txt)):\n",
    "        body_parts = []\n",
    "        for pattern in pattern_list:\n",
    "            p = re.compile(pattern[0])\n",
    "            results = p.findall(txt[i])\n",
    "            \n",
    "            if len(results) > 0:\n",
    "            \n",
    "                body_parts.append(pattern[1])\n",
    "                \n",
    "            else:\n",
    "                \n",
    "                pass\n",
    "\n",
    "        result_list.append((i, body_parts))\n",
    "            \n",
    "    return result_list"
   ]
  },
  {
   "cell_type": "code",
   "execution_count": 199,
   "metadata": {},
   "outputs": [
    {
     "data": {
      "text/plain": [
       "153956"
      ]
     },
     "execution_count": 199,
     "metadata": {},
     "output_type": "execute_result"
    }
   ],
   "source": [
    "test = get_body_part(data.text)\n",
    "len(test,data.text)"
   ]
  },
  {
   "cell_type": "code",
   "execution_count": 210,
   "metadata": {},
   "outputs": [],
   "source": [
    "def get_context(txt):\n",
    "    pattern1 = \"(PUNCH|KICK|BITE|SCRATCH|ATTACK|HARM|FIGHT|STAB|SHOOT|INFLICT|ANIMAL|INSECT|VENOM|INTENT)\"\n",
    "\n",
    "    pattern2 = \"(AIRCRAFT|VEHICLE|PLANE|CAR|BIKE|CYCLE|ROADWAY|PEDESTRIAN|TRAIN|MOTOR)\"\n",
    "\n",
    "    \n",
    "    pattern3 = \"(FIRE|BOMB|EXPLOSION|EXPLODE|IGNITION|PRESSURE|BLAST)\"\n",
    "\n",
    "    \n",
    "    pattern4 = \"(FALL|SLIP|TRIP|JUMP)\"\n",
    "    \n",
    "    pattern5 = \"(EXPOSURE|SUBSTANCE|CHEMICAL|ENVIRONMENT|RADIATION|EXTREME|EXPOSE|ELECTRIC|TEMPERATURE)\"\n",
    "    \n",
    "    pattern6 = \"(NEEDLE|MACHINE|CONTACT|STRUCK|EQUIP|COLLAPS|CRUSH|FRICTION)\"\n",
    "    \n",
    "    pattern7 = \"(EXERT|BODILY|HEAVY|LIFT|PUSH|OBJECT|REPETITIVE|REPEAT)\"\n",
    "    \n",
    "\n",
    "    \n",
    "    pattern_list = [(pattern1, 'violence people/animal'), \n",
    "                    (pattern2, 'transportation'),\n",
    "                    (pattern3, 'fires/explosions'),\n",
    "                    (pattern4, 'falls/slips/trips'),\n",
    "                    (pattern5, 'exposure'),\n",
    "                    (pattern6, 'objects/equipment'),\n",
    "                    (pattern7, 'overexertion')]\n",
    "    \n",
    "    result_list = []\n",
    "    \n",
    "    \n",
    "    for i in range(0, len(txt)):\n",
    "        groups = []\n",
    "        for pattern in pattern_list:\n",
    "            p = re.compile(pattern[0])\n",
    "            results = p.findall(txt[i])\n",
    "            \n",
    "            if len(results) > 0:\n",
    "            \n",
    "                groups.append(pattern[1])\n",
    "                \n",
    "            else:\n",
    "                \n",
    "                pass\n",
    "        if len(groups) < 1:\n",
    "            groups.append('None')\n",
    "\n",
    "        result_list.append((i, groups))\n",
    "            \n",
    "    return result_list"
   ]
  },
  {
   "cell_type": "code",
   "execution_count": 211,
   "metadata": {},
   "outputs": [
    {
     "name": "stdout",
     "output_type": "stream",
     "text": [
      "153956 153956\n"
     ]
    }
   ],
   "source": [
    "test2 = get_context(data.text)\n",
    "print(len(test2), len(data.text))"
   ]
  },
  {
   "cell_type": "code",
   "execution_count": 228,
   "metadata": {},
   "outputs": [
    {
     "name": "stdout",
     "output_type": "stream",
     "text": [
      "(48, ['falls/slips/trips'])\n",
      "(49, ['falls/slips/trips'])\n",
      "(50, ['fires/explosions'])\n"
     ]
    }
   ],
   "source": [
    "print(test2[48])\n",
    "print(test2[49])\n",
    "print(test2[50])"
   ]
  },
  {
   "cell_type": "code",
   "execution_count": null,
   "metadata": {},
   "outputs": [],
   "source": []
  }
 ],
 "metadata": {
  "kernelspec": {
   "display_name": "learn-env",
   "language": "python",
   "name": "learn-env"
  },
  "language_info": {
   "codemirror_mode": {
    "name": "ipython",
    "version": 3
   },
   "file_extension": ".py",
   "mimetype": "text/x-python",
   "name": "python",
   "nbconvert_exporter": "python",
   "pygments_lexer": "ipython3",
   "version": "3.6.6"
  }
 },
 "nbformat": 4,
 "nbformat_minor": 2
}
